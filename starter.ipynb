{
 "cells": [
  {
   "cell_type": "markdown",
   "id": "595cfa16-c9b2-49b5-8ad7-31da04568f8a",
   "metadata": {},
   "source": [
    "# MDS Big Adventure\n",
    "\n",
    "### Description\n",
    "MDS Big Advanture is a text-based game in which the player fights aliens on each level of the science building, buy items from Tim Hortons to improve health and strength, while advancing to the MDS classroom. The story of the game happens on an ordinary day in the MDS program, the player finished the morning classes and went to Tim Hortons for lunch. Suddenly an alien invasion took place, and the science building is occupied with the player’s laptop still in the classroom. The player has to retrieve the laptop in order to submit assignments on time.\n",
    "\n",
    "### Fighting\n",
    "When the player press 4 to engage with the alien, two dice are rolled to simulate random factors in combat, one for the player, the other for the alien. Player and alien's power in the battle is computed based on the equation power*(1+dice/10). The difference between player and alien's power is the damage inflicted to the losing party. \n",
    "\n",
    "### Buying items\n",
    "The player can buy food from Tim Hortons by pressing 3 and key in the food name. The number of each food the player can buy is limited. The player can get a special item in Tim Hortons if they order a particular food more then one time (Note: it may not be on the menu, there are hints in the game). \n",
    "It is recommended to get all the available foods before engaging the alien captain. \n",
    "\n",
    "**Please run the starter code below to start the game**"
   ]
  },
  {
   "cell_type": "code",
   "execution_count": 1,
   "id": "83dc8531-fcfc-4532-b074-c8ccac0beaa4",
   "metadata": {},
   "outputs": [],
   "source": [
    "from MBA_EA.play import play"
   ]
  },
  {
   "cell_type": "code",
   "execution_count": 2,
   "id": "166a32ff-6802-4ed8-8338-33ec57df6212",
   "metadata": {},
   "outputs": [],
   "source": [
    "p = play()"
   ]
  },
  {
   "cell_type": "code",
   "execution_count": 3,
   "id": "8de49334-da3f-435d-8683-e11c92e613f7",
   "metadata": {},
   "outputs": [
    {
     "name": "stdout",
     "output_type": "stream",
     "text": [
      "\n",
      "        It is an ordinary day in the MDS program, you finished the morning classes\n",
      "        and went to Tim Hortons for lunch. All of a sudden, you hear a big bang sound\n",
      "        tearing through the sky. You looked up, UFOs! Alien vessels are hovering over the\n",
      "        science building, aliens are landing on the roof! People around you started screaming\n",
      "        and running. You suddenly realized something important, your laptop is still in the building,\n",
      "        and you haven't submitted the lab in it! You need to go get your laptop!\n",
      "        \n",
      "        You are at Tim Hortons\n",
      "        What is your next move?\n",
      "        \n",
      "        \n",
      "____________________________________________________\n",
      "1) advance  2) retreat  3)buy item 4) fight 0) exit\n",
      "('ᴗ') Health: 100 power: 100  Money: 0\n"
     ]
    },
    {
     "name": "stdin",
     "output_type": "stream",
     "text": [
      "what is your next move? 1\n"
     ]
    },
    {
     "name": "stdout",
     "output_type": "stream",
     "text": [
      "\n",
      "                   վ'ᴗ' ի you advanced\n",
      "\n",
      "                                    \n",
      "                                You are on the first floor of the science building\n",
      "                                It is a huge mess. Most of the students have escaped from the building, some are still running around\n",
      "                                looking for the exit. There is one still studying... wait... no... that's not a student!\n",
      "                                A tall scientist looking alien is scanning the papers on the wall. \"#$#^%*&statist*csss, %$#!@$%...\", he is murmuring\n",
      "                                to himself. Apparently, he is stealing, or mocking, the scientific progress of Earth. Either way, you need to\n",
      "                                stop him!  \n",
      "                                    (/ﾟДﾟ)/ you found an alien scientist ((╰_╯) Health: 100 power: 80) in front of you\n",
      "                                    \n",
      "____________________________________________________\n",
      "1) advance  2) retreat  3)buy item 4) fight 0) exit\n",
      "('ᴗ') Health: 100 power: 100  Money: 0\n"
     ]
    },
    {
     "name": "stdin",
     "output_type": "stream",
     "text": [
      "what is your next move? 4\n"
     ]
    },
    {
     "name": "stdout",
     "output_type": "stream",
     "text": [
      "\n",
      "                                                (ง •̀_•́)ง   VS   (╰_╯)\n",
      "                                                you are fighting the alien\n",
      "\n",
      "                                             Your advantage: 4    Alien advantage: 6\n",
      "\n",
      "                                               (╯°口°)╯︵ ┻━┻  (╰_╯) Health: 88 power: 80\n",
      "                                               you inflicted 12 damage to the alien\n",
      "____________________________________________________\n",
      "1) advance  2) retreat  3)buy item 4) fight 0) exit\n",
      "('ᴗ') Health: 100 power: 100  Money: 0\n"
     ]
    },
    {
     "name": "stdin",
     "output_type": "stream",
     "text": [
      "what is your next move? 4\n"
     ]
    },
    {
     "name": "stdout",
     "output_type": "stream",
     "text": [
      "\n",
      "                                                (ง •̀_•́)ง   VS   (╰_╯)\n",
      "                                                you are fighting the alien\n",
      "\n",
      "                                             Your advantage: 1    Alien advantage: 5\n",
      "\n",
      "                                            _(:\\ 」∠)_      (╰_╯) Health: 88 power: 80\n",
      "                                            The alien knocked you off, inflicting 9 damage on you\n",
      "                                            you can still stand up to fight\n",
      "____________________________________________________\n",
      "1) advance  2) retreat  3)buy item 4) fight 0) exit\n",
      "('ᴗ') Health: 91 power: 100  Money: 0\n"
     ]
    },
    {
     "name": "stdin",
     "output_type": "stream",
     "text": [
      "what is your next move? 4\n"
     ]
    },
    {
     "name": "stdout",
     "output_type": "stream",
     "text": [
      "\n",
      "                                                (ง •̀_•́)ง   VS   (╰_╯)\n",
      "                                                you are fighting the alien\n",
      "\n",
      "                                             Your advantage: 2    Alien advantage: 2\n",
      "\n",
      "                                               (╯°口°)╯︵ ┻━┻  (╰_╯) Health: 64 power: 80\n",
      "                                               you inflicted 24 damage to the alien\n",
      "____________________________________________________\n",
      "1) advance  2) retreat  3)buy item 4) fight 0) exit\n",
      "('ᴗ') Health: 91 power: 100  Money: 0\n"
     ]
    },
    {
     "name": "stdin",
     "output_type": "stream",
     "text": [
      "what is your next move? 4\n"
     ]
    },
    {
     "name": "stdout",
     "output_type": "stream",
     "text": [
      "\n",
      "                                                (ง •̀_•́)ง   VS   (╰_╯)\n",
      "                                                you are fighting the alien\n",
      "\n",
      "                                             Your advantage: 1    Alien advantage: 4\n",
      "\n",
      "                                            _(:\\ 」∠)_      (╰_╯) Health: 64 power: 80\n",
      "                                            The alien knocked you off, inflicting 1 damage on you\n",
      "                                            you can still stand up to fight\n",
      "____________________________________________________\n",
      "1) advance  2) retreat  3)buy item 4) fight 0) exit\n",
      "('ᴗ') Health: 90 power: 100  Money: 0\n"
     ]
    },
    {
     "name": "stdin",
     "output_type": "stream",
     "text": [
      "what is your next move? 4\n"
     ]
    },
    {
     "name": "stdout",
     "output_type": "stream",
     "text": [
      "\n",
      "                                                (ง •̀_•́)ง   VS   (╰_╯)\n",
      "                                                you are fighting the alien\n",
      "\n",
      "                                             Your advantage: 6    Alien advantage: 1\n",
      "\n",
      "                                               (╯°口°)╯︵ ┻━┻  (x__x) Health: 0 power: 80\n",
      "                                               you inflicted 72 damage to the alien\n",
      "\n",
      "                                             └(^o^)┘ you defeated the alien\n",
      "\n",
      "                                You reclaimed $3 from the dead alien, they must have stolen these cash\n",
      "                                from someone's backpack\n",
      "____________________________________________________\n",
      "1) advance  2) retreat  3)buy item 4) fight 0) exit\n",
      "('ᴗ') Health: 90 power: 100  Money: 3\n"
     ]
    },
    {
     "name": "stdin",
     "output_type": "stream",
     "text": [
      "what is your next move? 2\n"
     ]
    },
    {
     "name": "stdout",
     "output_type": "stream",
     "text": [
      "\n",
      "                  ヽ(*。>Д<)o゜ you retreated\n",
      "\n",
      "                            you are in tim's\n",
      "                            \n",
      "____________________________________________________\n",
      "1) advance  2) retreat  3)buy item 4) fight 0) exit\n",
      "('ᴗ') Health: 90 power: 100  Money: 3\n"
     ]
    },
    {
     "name": "stdin",
     "output_type": "stream",
     "text": [
      "what is your next move? 3\n"
     ]
    },
    {
     "name": "stdout",
     "output_type": "stream",
     "text": [
      "\n",
      "                 hashbrown, price 3\n",
      "\n",
      "                 maple bacon bagel belt, price 7\n",
      "\n",
      "                 sausage farmer's wrap, price 8\n"
     ]
    },
    {
     "name": "stdin",
     "output_type": "stream",
     "text": [
      "What do you want to order today?  hashbrown\n"
     ]
    },
    {
     "name": "stdout",
     "output_type": "stream",
     "text": [
      "\n",
      "                                  You sat down and enjoyed the hashbrown\n",
      "                           <(▰˘◡˘▰)>\n",
      "                                  You feel better now, your health and power are restored\n",
      "____________________________________________________\n",
      "1) advance  2) retreat  3)buy item 4) fight 0) exit\n",
      "('ᴗ') Health: 100 power: 105  Money: 0\n"
     ]
    },
    {
     "name": "stdin",
     "output_type": "stream",
     "text": [
      "what is your next move? 1\n"
     ]
    },
    {
     "name": "stdout",
     "output_type": "stream",
     "text": [
      "\n",
      "                   վ'ᴗ' ի you advanced\n",
      "\n",
      "                                    \n",
      "                               You returned to the first floor, it is very quiet here\n",
      "                              \"turkey bacon club ~~~\" You heard an indistinctive whisper, it might just be an illusion \n",
      "                                    (/ﾟДﾟ)/ you found an alien dead body ((x__x) Health: 0 power: 0) in front of you\n",
      "                                    \n",
      "____________________________________________________\n",
      "1) advance  2) retreat  3)buy item 4) fight 0) exit\n",
      "('ᴗ') Health: 100 power: 105  Money: 0\n"
     ]
    },
    {
     "name": "stdin",
     "output_type": "stream",
     "text": [
      "what is your next move? 1\n"
     ]
    },
    {
     "name": "stdout",
     "output_type": "stream",
     "text": [
      "\n",
      "                   վ'ᴗ' ի you advanced\n",
      "\n",
      "                                    \n",
      "                                You are on the 2nd floor\n",
      "                                You found a soldier looking alien standing in front of he garbage bins, holding a weapon.\n",
      "                                He looks puzzled, as if he is confused what garbage should go to which bin. \"&*@&#(@)#&?\", he murmured\n",
      "                                with frustration. You can seize this chance to attack him by surprise! \n",
      "                                    (/ﾟДﾟ)/ you found an alien infantry soldier ((╰_╯) Health: 120 power: 90) in front of you\n",
      "                                    \n",
      "____________________________________________________\n",
      "1) advance  2) retreat  3)buy item 4) fight 0) exit\n",
      "('ᴗ') Health: 100 power: 105  Money: 0\n"
     ]
    },
    {
     "name": "stdin",
     "output_type": "stream",
     "text": [
      "what is your next move? 4\n"
     ]
    },
    {
     "name": "stdout",
     "output_type": "stream",
     "text": [
      "\n",
      "                                                (ง •̀_•́)ง   VS   (╰_╯)\n",
      "                                                you are fighting the alien\n",
      "\n",
      "                                             Your advantage: 1    Alien advantage: 4\n",
      "\n",
      "                                            _(:\\ 」∠)_      (╰_╯) Health: 120 power: 90\n",
      "                                            The alien knocked you off, inflicting 10 damage on you\n",
      "                                            you can still stand up to fight\n",
      "____________________________________________________\n",
      "1) advance  2) retreat  3)buy item 4) fight 0) exit\n",
      "('ᴗ') Health: 90 power: 105  Money: 0\n"
     ]
    },
    {
     "name": "stdin",
     "output_type": "stream",
     "text": [
      "what is your next move? 4\n"
     ]
    },
    {
     "name": "stdout",
     "output_type": "stream",
     "text": [
      "\n",
      "                                                (ง •̀_•́)ง   VS   (╰_╯)\n",
      "                                                you are fighting the alien\n",
      "\n",
      "                                             Your advantage: 1    Alien advantage: 3\n",
      "\n",
      "                                            _(:\\ 」∠)_      (╰_╯) Health: 120 power: 90\n",
      "                                            The alien knocked you off, inflicting 1 damage on you\n",
      "                                            you can still stand up to fight\n",
      "____________________________________________________\n",
      "1) advance  2) retreat  3)buy item 4) fight 0) exit\n",
      "('ᴗ') Health: 89 power: 105  Money: 0\n"
     ]
    },
    {
     "name": "stdin",
     "output_type": "stream",
     "text": [
      "what is your next move? 4\n"
     ]
    },
    {
     "name": "stdout",
     "output_type": "stream",
     "text": [
      "\n",
      "                                                (ง •̀_•́)ง   VS   (╰_╯)\n",
      "                                                you are fighting the alien\n",
      "\n",
      "                                             Your advantage: 3    Alien advantage: 3\n",
      "\n",
      "                                               (╯°口°)╯︵ ┻━┻  (╰_╯) Health: 101 power: 90\n",
      "                                               you inflicted 19 damage to the alien\n",
      "____________________________________________________\n",
      "1) advance  2) retreat  3)buy item 4) fight 0) exit\n",
      "('ᴗ') Health: 89 power: 105  Money: 0\n"
     ]
    },
    {
     "name": "stdin",
     "output_type": "stream",
     "text": [
      "what is your next move? 4\n"
     ]
    },
    {
     "name": "stdout",
     "output_type": "stream",
     "text": [
      "\n",
      "                                                (ง •̀_•́)ง   VS   (╰_╯)\n",
      "                                                you are fighting the alien\n",
      "\n",
      "                                             Your advantage: 2    Alien advantage: 5\n",
      "\n",
      "                                            _(:\\ 」∠)_      (╰_╯) Health: 101 power: 90\n",
      "                                            The alien knocked you off, inflicting 9 damage on you\n",
      "                                            you can still stand up to fight\n",
      "____________________________________________________\n",
      "1) advance  2) retreat  3)buy item 4) fight 0) exit\n",
      "('ᴗ') Health: 80 power: 105  Money: 0\n"
     ]
    },
    {
     "name": "stdin",
     "output_type": "stream",
     "text": [
      "what is your next move? 4\n"
     ]
    },
    {
     "name": "stdout",
     "output_type": "stream",
     "text": [
      "\n",
      "                                                (ง •̀_•́)ง   VS   (╰_╯)\n",
      "                                                you are fighting the alien\n",
      "\n",
      "                                             Your advantage: 1    Alien advantage: 5\n",
      "\n",
      "                                            _(:\\ 」∠)_      (╰_╯) Health: 101 power: 90\n",
      "                                            The alien knocked you off, inflicting 19 damage on you\n",
      "                                            you can still stand up to fight\n",
      "____________________________________________________\n",
      "1) advance  2) retreat  3)buy item 4) fight 0) exit\n",
      "('ᴗ') Health: 61 power: 105  Money: 0\n"
     ]
    },
    {
     "name": "stdin",
     "output_type": "stream",
     "text": [
      "what is your next move? 4\n"
     ]
    },
    {
     "name": "stdout",
     "output_type": "stream",
     "text": [
      "\n",
      "                                                (ง •̀_•́)ง   VS   (╰_╯)\n",
      "                                                you are fighting the alien\n",
      "\n",
      "                                             Your advantage: 5    Alien advantage: 3\n",
      "\n",
      "                                               (╯°口°)╯︵ ┻━┻  (╰_╯) Health: 61 power: 90\n",
      "                                               you inflicted 40 damage to the alien\n",
      "____________________________________________________\n",
      "1) advance  2) retreat  3)buy item 4) fight 0) exit\n",
      "('ᴗ') Health: 61 power: 105  Money: 0\n"
     ]
    },
    {
     "name": "stdin",
     "output_type": "stream",
     "text": [
      "what is your next move? 4\n"
     ]
    },
    {
     "name": "stdout",
     "output_type": "stream",
     "text": [
      "\n",
      "                                                (ง •̀_•́)ง   VS   (╰_╯)\n",
      "                                                you are fighting the alien\n",
      "\n",
      "                                             Your advantage: 1    Alien advantage: 2\n",
      "\n",
      "                                               (╯°口°)╯︵ ┻━┻  (╰_╯) Health: 54 power: 90\n",
      "                                               you inflicted 7 damage to the alien\n",
      "____________________________________________________\n",
      "1) advance  2) retreat  3)buy item 4) fight 0) exit\n",
      "('ᴗ') Health: 61 power: 105  Money: 0\n"
     ]
    },
    {
     "name": "stdin",
     "output_type": "stream",
     "text": [
      "what is your next move? 4\n"
     ]
    },
    {
     "name": "stdout",
     "output_type": "stream",
     "text": [
      "\n",
      "                                                (ง •̀_•́)ง   VS   (╰_╯)\n",
      "                                                you are fighting the alien\n",
      "\n",
      "                                             Your advantage: 3    Alien advantage: 1\n",
      "\n",
      "                                               (╯°口°)╯︵ ┻━┻  (╰_╯) Health: 17 power: 90\n",
      "                                               you inflicted 37 damage to the alien\n",
      "____________________________________________________\n",
      "1) advance  2) retreat  3)buy item 4) fight 0) exit\n",
      "('ᴗ') Health: 61 power: 105  Money: 0\n"
     ]
    },
    {
     "name": "stdin",
     "output_type": "stream",
     "text": [
      "what is your next move? 4\n"
     ]
    },
    {
     "name": "stdout",
     "output_type": "stream",
     "text": [
      "\n",
      "                                                (ง •̀_•́)ง   VS   (╰_╯)\n",
      "                                                you are fighting the alien\n",
      "\n",
      "                                             Your advantage: 1    Alien advantage: 1\n",
      "\n",
      "                                               (╯°口°)╯︵ ┻━┻  (╰_╯) Health: 1 power: 90\n",
      "                                               you inflicted 16 damage to the alien\n",
      "____________________________________________________\n",
      "1) advance  2) retreat  3)buy item 4) fight 0) exit\n",
      "('ᴗ') Health: 61 power: 105  Money: 0\n"
     ]
    },
    {
     "name": "stdin",
     "output_type": "stream",
     "text": [
      "what is your next move? 4\n"
     ]
    },
    {
     "name": "stdout",
     "output_type": "stream",
     "text": [
      "\n",
      "                                                (ง •̀_•́)ง   VS   (╰_╯)\n",
      "                                                you are fighting the alien\n",
      "\n",
      "                                             Your advantage: 4    Alien advantage: 2\n",
      "\n",
      "                                               (╯°口°)╯︵ ┻━┻  (x__x) Health: 0 power: 90\n",
      "                                               you inflicted 39 damage to the alien\n",
      "\n",
      "                                             └(^o^)┘ you defeated the alien\n",
      "\n",
      "                                You reclaimed $8 from the dead alien, they must have stolen these cash\n",
      "                                from someone's backpack\n",
      "____________________________________________________\n",
      "1) advance  2) retreat  3)buy item 4) fight 0) exit\n",
      "('ᴗ') Health: 61 power: 105  Money: 8\n"
     ]
    },
    {
     "name": "stdin",
     "output_type": "stream",
     "text": [
      "what is your next move? 3\n"
     ]
    },
    {
     "name": "stdout",
     "output_type": "stream",
     "text": [
      "\n",
      "                                  There is no store here\n",
      "____________________________________________________\n",
      "1) advance  2) retreat  3)buy item 4) fight 0) exit\n",
      "('ᴗ') Health: 61 power: 105  Money: 8\n"
     ]
    },
    {
     "name": "stdin",
     "output_type": "stream",
     "text": [
      "what is your next move? 1\n"
     ]
    },
    {
     "name": "stdout",
     "output_type": "stream",
     "text": [
      "\n",
      "                   վ'ᴗ' ի you advanced\n",
      "\n",
      "                                    \n",
      "                                You are on the third floor\n",
      "                                There is an alien in the chemistry lab drinking random chemicals.\n",
      "                                \"&#*!!!!!\", he probably drank one of the acids. As he madly wiped his tongue, he spotted you!\n",
      "                                 \n",
      "                                    (/ﾟДﾟ)/ you found an alien elite commando ((╰_╯) Health: 150 power: 100) in front of you\n",
      "                                    \n",
      "____________________________________________________\n",
      "1) advance  2) retreat  3)buy item 4) fight 0) exit\n",
      "('ᴗ') Health: 61 power: 105  Money: 8\n"
     ]
    },
    {
     "name": "stdin",
     "output_type": "stream",
     "text": [
      "what is your next move? 2\n"
     ]
    },
    {
     "name": "stdout",
     "output_type": "stream",
     "text": [
      "\n",
      "                  ヽ(*。>Д<)o゜ you retreated\n",
      "\n",
      "                            \n",
      "                                 you returned to the second floor, there is nobody here, only over turned garbage bins\n",
      "                                \"turkey bacn club~~\", you think you heard a whisper, but there is nobody here...\n",
      "                                \n",
      "                            \n",
      "____________________________________________________\n",
      "1) advance  2) retreat  3)buy item 4) fight 0) exit\n",
      "('ᴗ') Health: 61 power: 105  Money: 8\n"
     ]
    },
    {
     "name": "stdin",
     "output_type": "stream",
     "text": [
      "what is your next move? 2\n"
     ]
    },
    {
     "name": "stdout",
     "output_type": "stream",
     "text": [
      "\n",
      "                  ヽ(*。>Д<)o゜ you retreated\n",
      "\n",
      "                            \n",
      "                               You returned to the first floor, it is very quiet here\n",
      "                              \"turkey bacon club ~~~\" You heard an indistinctive whisper, it might just be an illusion\n",
      "                            \n",
      "____________________________________________________\n",
      "1) advance  2) retreat  3)buy item 4) fight 0) exit\n",
      "('ᴗ') Health: 61 power: 105  Money: 8\n"
     ]
    },
    {
     "name": "stdin",
     "output_type": "stream",
     "text": [
      "what is your next move? 2\n"
     ]
    },
    {
     "name": "stdout",
     "output_type": "stream",
     "text": [
      "\n",
      "                  ヽ(*。>Д<)o゜ you retreated\n",
      "\n",
      "                            you are in tim's\n",
      "                            \n",
      "____________________________________________________\n",
      "1) advance  2) retreat  3)buy item 4) fight 0) exit\n",
      "('ᴗ') Health: 61 power: 105  Money: 8\n"
     ]
    },
    {
     "name": "stdin",
     "output_type": "stream",
     "text": [
      "what is your next move? 3\n"
     ]
    },
    {
     "name": "stdout",
     "output_type": "stream",
     "text": [
      "\n",
      "                 hashbrown, price 3\n",
      "\n",
      "                 maple bacon bagel belt, price 7\n",
      "\n",
      "                 sausage farmer's wrap, price 8\n"
     ]
    },
    {
     "name": "stdin",
     "output_type": "stream",
     "text": [
      "What do you want to order today?  sausage farmer's wrap\n"
     ]
    },
    {
     "name": "stdout",
     "output_type": "stream",
     "text": [
      "\n",
      "                                  You sat down and enjoyed the sausage farmer's wrap\n",
      "                           <(▰˘◡˘▰)>\n",
      "                                  You feel better now, your health and power are restored\n",
      "____________________________________________________\n",
      "1) advance  2) retreat  3)buy item 4) fight 0) exit\n",
      "('ᴗ') Health: 101 power: 130  Money: 0\n"
     ]
    },
    {
     "name": "stdin",
     "output_type": "stream",
     "text": [
      "what is your next move? 1\n"
     ]
    },
    {
     "name": "stdout",
     "output_type": "stream",
     "text": [
      "\n",
      "                   վ'ᴗ' ի you advanced\n",
      "\n",
      "                                    \n",
      "                               You returned to the first floor, it is very quiet here\n",
      "                              \"turkey bacon club ~~~\" You heard an indistinctive whisper, it might just be an illusion \n",
      "                                    (/ﾟДﾟ)/ you found an alien dead body ((x__x) Health: 0 power: 0) in front of you\n",
      "                                    \n",
      "____________________________________________________\n",
      "1) advance  2) retreat  3)buy item 4) fight 0) exit\n",
      "('ᴗ') Health: 101 power: 130  Money: 0\n"
     ]
    },
    {
     "name": "stdin",
     "output_type": "stream",
     "text": [
      "what is your next move? 1\n"
     ]
    },
    {
     "name": "stdout",
     "output_type": "stream",
     "text": [
      "\n",
      "                   վ'ᴗ' ի you advanced\n",
      "\n",
      "                                    \n",
      "                                 you returned to the second floor, there is nobody here, only over turned garbage bins\n",
      "                                \"turkey bacn club~~\", you think you heard a whisper, but there is nobody here...\n",
      "                                 \n",
      "                                    (/ﾟДﾟ)/ you found an alien dead body ((x__x) Health: 0 power: 0) in front of you\n",
      "                                    \n",
      "____________________________________________________\n",
      "1) advance  2) retreat  3)buy item 4) fight 0) exit\n",
      "('ᴗ') Health: 101 power: 130  Money: 0\n"
     ]
    },
    {
     "name": "stdin",
     "output_type": "stream",
     "text": [
      "what is your next move? 1\n"
     ]
    },
    {
     "name": "stdout",
     "output_type": "stream",
     "text": [
      "\n",
      "                   վ'ᴗ' ի you advanced\n",
      "\n",
      "                                    \n",
      "                                 you returned to the chemistry labs\n",
      "                                  \n",
      "                                    (/ﾟДﾟ)/ you found an alien elite commando ((╰_╯) Health: 150 power: 100) in front of you\n",
      "                                    \n",
      "____________________________________________________\n",
      "1) advance  2) retreat  3)buy item 4) fight 0) exit\n",
      "('ᴗ') Health: 101 power: 130  Money: 0\n"
     ]
    },
    {
     "name": "stdin",
     "output_type": "stream",
     "text": [
      "what is your next move? 4\n"
     ]
    },
    {
     "name": "stdout",
     "output_type": "stream",
     "text": [
      "\n",
      "                                                (ง •̀_•́)ง   VS   (╰_╯)\n",
      "                                                you are fighting the alien\n",
      "\n",
      "                                             Your advantage: 5    Alien advantage: 2\n",
      "\n",
      "                                               (╯°口°)╯︵ ┻━┻  (╰_╯) Health: 75 power: 100\n",
      "                                               you inflicted 75 damage to the alien\n",
      "____________________________________________________\n",
      "1) advance  2) retreat  3)buy item 4) fight 0) exit\n",
      "('ᴗ') Health: 101 power: 130  Money: 0\n"
     ]
    },
    {
     "name": "stdin",
     "output_type": "stream",
     "text": [
      "what is your next move? 4\n"
     ]
    },
    {
     "name": "stdout",
     "output_type": "stream",
     "text": [
      "\n",
      "                                                (ง •̀_•́)ง   VS   (╰_╯)\n",
      "                                                you are fighting the alien\n",
      "\n",
      "                                             Your advantage: 1    Alien advantage: 6\n",
      "\n",
      "                                            _(:\\ 」∠)_      (╰_╯) Health: 75 power: 100\n",
      "                                            The alien knocked you off, inflicting 17 damage on you\n",
      "                                            you can still stand up to fight\n",
      "____________________________________________________\n",
      "1) advance  2) retreat  3)buy item 4) fight 0) exit\n",
      "('ᴗ') Health: 84 power: 130  Money: 0\n"
     ]
    },
    {
     "name": "stdin",
     "output_type": "stream",
     "text": [
      "what is your next move? 4\n"
     ]
    },
    {
     "name": "stdout",
     "output_type": "stream",
     "text": [
      "\n",
      "                                                (ง •̀_•́)ง   VS   (╰_╯)\n",
      "                                                you are fighting the alien\n",
      "\n",
      "                                             Your advantage: 5    Alien advantage: 2\n",
      "\n",
      "                                               (╯°口°)╯︵ ┻━┻  (x__x) Health: 0 power: 100\n",
      "                                               you inflicted 75 damage to the alien\n",
      "\n",
      "                                             └(^o^)┘ you defeated the alien\n",
      "\n",
      "                                You reclaimed $10 from the dead alien, they must have stolen these cash\n",
      "                                from someone's backpack\n",
      "____________________________________________________\n",
      "1) advance  2) retreat  3)buy item 4) fight 0) exit\n",
      "('ᴗ') Health: 84 power: 130  Money: 10\n"
     ]
    },
    {
     "name": "stdin",
     "output_type": "stream",
     "text": [
      "what is your next move? 1\n"
     ]
    },
    {
     "name": "stdout",
     "output_type": "stream",
     "text": [
      "\n",
      "                   վ'ᴗ' ի you advanced\n",
      "\n",
      "                                    \n",
      "                                You finally entered SCI 396\n",
      "                                An alien with fancy armor is in the classroom. He is...well...swiveling on one of the swivel chairs.\n",
      "                                \"Ahhh!!!! Well! come!! warrior of this PLANET!!!! I have been MONITORING your PROGRASS!!!\" \n",
      "                                He got up and shouted to you in human language.\n",
      "                                \n",
      "                                \"You can speak our language? What were you doing on the chair? And why are you shouting?\" You are puzzled.\n",
      "                                \n",
      "                                \"My universal TRANSLATOR have picked up some preliminary samples from the HUMANS screaming and running AROUND!!!\n",
      "                                But the samples are limited to mostly shouting and CRYING! in despair， as you can imagine!!!\n",
      "                                At least it WORKS for now!!! I AM! the captain OF the &^*(*^ vessel *((*^, We are ON our pilgrimage!!!\"\n",
      "                                \n",
      "                                \"OK, I see... what pilgrimage? And I am not a warrior, I just need my laptop to finish my assignment,\n",
      "                                it is due in a few ours. \"\n",
      "                                \n",
      "                                \"Oh, what a brutal civilization! You torture your children at this kindergarten and force your warriors to do\n",
      "                                children's work for no reason!\" He is not shouting as much now, his universal translator must have sampled your\n",
      "                                normal speaking.\n",
      "                                \n",
      "                                \"What are you talking about, this is not a kindergarten, it is a university, and we don't torture our children!\"\n",
      "                                \n",
      "                                \"What?!, you are teaching Maximum likelihood estimation at a university? My 2-year-old daughter can do that.\n",
      "                                And these swivel chairs are not for swiveling students who answered the questoin wrong for punishment? And what about\n",
      "                                those cafeteria next door, the terrible foods are not for torturing the students?\" Said the alien.\n",
      "                                \n",
      "                                \"What? No, no the equations... the chairs...ah I don't even want to explain. And those labs next door are not cafeteria,\n",
      "                                there are dangerous chemicals in it! Well... but you might be right about the foods on campus... \"\n",
      "                                \n",
      "                                \"Who would put chemicals in a kindergarten... ah!! never mind. Now, I should complete our pilgrimage and take you and some\n",
      "                                other humans as offering to the god of (*&%$ before we nuke this entire planet. \" The alien captain pulled out his weapon.\n",
      "                                \n",
      "                                \"So your pilgrimage is to kidnap warriors from other planets before destroying them, what an envil civilization, I will \n",
      "                                not let you do that!\"\n",
      "                                \n",
      "                                 \n",
      "                                    (/ﾟДﾟ)/ you found an alien captain ((╰_╯) Health: 200 power: 150) in front of you\n",
      "                                    \n",
      "____________________________________________________\n",
      "1) advance  2) retreat  3)buy item 4) fight 0) exit\n",
      "('ᴗ') Health: 84 power: 130  Money: 10\n"
     ]
    },
    {
     "name": "stdin",
     "output_type": "stream",
     "text": [
      "what is your next move? 4\n"
     ]
    },
    {
     "name": "stdout",
     "output_type": "stream",
     "text": [
      "\n",
      "                                                (ง •̀_•́)ง   VS   (╰_╯)\n",
      "                                                you are fighting the alien\n",
      "\n",
      "                                             Your advantage: 2    Alien advantage: 1\n",
      "\n",
      "                                            _(:\\ 」∠)_      (╰_╯) Health: 200 power: 150\n",
      "                                            The alien knocked you off, inflicting 9 damage on you\n",
      "                                            you can still stand up to fight\n",
      "____________________________________________________\n",
      "1) advance  2) retreat  3)buy item 4) fight 0) exit\n",
      "('ᴗ') Health: 75 power: 130  Money: 10\n"
     ]
    },
    {
     "name": "stdin",
     "output_type": "stream",
     "text": [
      "what is your next move? 4\n"
     ]
    },
    {
     "name": "stdout",
     "output_type": "stream",
     "text": [
      "\n",
      "                                                (ง •̀_•́)ง   VS   (╰_╯)\n",
      "                                                you are fighting the alien\n",
      "\n",
      "                                             Your advantage: 6    Alien advantage: 1\n",
      "\n",
      "                                               (╯°口°)╯︵ ┻━┻  (╰_╯) Health: 157 power: 150\n",
      "                                               you inflicted 43 damage to the alien\n",
      "____________________________________________________\n",
      "1) advance  2) retreat  3)buy item 4) fight 0) exit\n",
      "('ᴗ') Health: 75 power: 130  Money: 10\n"
     ]
    },
    {
     "name": "stdin",
     "output_type": "stream",
     "text": [
      "what is your next move? 4\n"
     ]
    },
    {
     "name": "stdout",
     "output_type": "stream",
     "text": [
      "\n",
      "                                                (ง •̀_•́)ง   VS   (╰_╯)\n",
      "                                                you are fighting the alien\n",
      "\n",
      "                                             Your advantage: 4    Alien advantage: 3\n",
      "\n",
      "                                            _(:\\ 」∠)_      (╰_╯) Health: 157 power: 150\n",
      "                                            The alien knocked you off, inflicting 13 damage on you\n",
      "                                            you can still stand up to fight\n",
      "____________________________________________________\n",
      "1) advance  2) retreat  3)buy item 4) fight 0) exit\n",
      "('ᴗ') Health: 62 power: 130  Money: 10\n"
     ]
    },
    {
     "name": "stdin",
     "output_type": "stream",
     "text": [
      "what is your next move? 4\n"
     ]
    },
    {
     "name": "stdout",
     "output_type": "stream",
     "text": [
      "\n",
      "                                                (ง •̀_•́)ง   VS   (╰_╯)\n",
      "                                                you are fighting the alien\n",
      "\n",
      "                                             Your advantage: 1    Alien advantage: 4\n",
      "\n",
      "                                            _(:\\ 」∠)_      (╰_╯) Health: 157 power: 150\n",
      "                                            The alien knocked you off, inflicting 67 damage on you\n",
      "                                            you can still stand up to fight\n",
      "\n",
      "                    No... you can't get up any more...\n",
      "                    \n",
      "                    ~~~~~~~~~~~~Sad BGM playing~~~~~~~~~~~~~~~~~\n",
      "                     \n",
      "                    You are defeated by the alien...\n",
      "                    Before you lose consciousness, you felt the alien lifting you up.\n",
      "                    Where would he take you? You may never have a chance to find out...\n",
      "                    \n",
      "                    What would become of the fate of humanity? \n",
      "                    ~~~~~~~~~~~~flashback of good memories~~~~~~~~\n",
      "                    \n",
      "                    But more importly, your assignment... you are going to miss it...\n",
      "                    \n",
      "                    You lost consciousness...\n",
      "                    \n",
      "                    Game over\n",
      "                    \n",
      "                    \n",
      "        \n"
     ]
    }
   ],
   "source": [
    "p.play()"
   ]
  },
  {
   "cell_type": "code",
   "execution_count": null,
   "id": "c975f853-dc01-4b69-a24a-0ad5a0ad4f97",
   "metadata": {},
   "outputs": [],
   "source": []
  }
 ],
 "metadata": {
  "kernelspec": {
   "display_name": "Python 3 (ipykernel)",
   "language": "python",
   "name": "python3"
  },
  "language_info": {
   "codemirror_mode": {
    "name": "ipython",
    "version": 3
   },
   "file_extension": ".py",
   "mimetype": "text/x-python",
   "name": "python",
   "nbconvert_exporter": "python",
   "pygments_lexer": "ipython3",
   "version": "3.9.12"
  }
 },
 "nbformat": 4,
 "nbformat_minor": 5
}
